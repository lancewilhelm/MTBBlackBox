{
 "cells": [
  {
   "cell_type": "code",
   "execution_count": 2,
   "metadata": {},
   "outputs": [],
   "source": [
    "import plotly\n",
    "import plotly.plotly as py\n",
    "import plotly.graph_objs as go\n",
    "import plotly.figure_factory as FF\n",
    "\n",
    "import numpy as np\n",
    "import pandas as pd"
   ]
  },
  {
   "cell_type": "code",
   "execution_count": 4,
   "metadata": {},
   "outputs": [],
   "source": [
    "df = pd.read_csv('data/data-1557607067.csv')"
   ]
  },
  {
   "cell_type": "code",
   "execution_count": 5,
   "metadata": {},
   "outputs": [],
   "source": [
    "table = go.Table(\n",
    "    header=dict(values=list(df.columns),\n",
    "                fill = dict(color='#C2D4FF'),\n",
    "                align = ['left'] * 5),\n",
    "    cells=dict(values=[df.t, df.yaw, df.pitch, df.roll, df.arealX, df.arealY, df.arealZ, df.aworldX, df.aworldY, df.aworldZ],\n",
    "               fill = dict(color='#F5F8FF'),\n",
    "               align = ['left'] * 5))"
   ]
  },
  {
   "cell_type": "code",
   "execution_count": 6,
   "metadata": {},
   "outputs": [
    {
     "name": "stderr",
     "output_type": "stream",
     "text": [
      "C:\\Users\\lance\\Anaconda3\\lib\\site-packages\\IPython\\core\\display.py:689: UserWarning:\n",
      "\n",
      "Consider using IPython.display.IFrame instead\n",
      "\n"
     ]
    },
    {
     "data": {
      "text/html": [
       "<iframe id=\"igraph\" scrolling=\"no\" style=\"border:none;\" seamless=\"seamless\" src=\"https://plot.ly/~lance.wilhelm/6.embed\" height=\"525px\" width=\"100%\"></iframe>"
      ],
      "text/plain": [
       "<chart_studio.tools.PlotlyDisplay object>"
      ]
     },
     "execution_count": 6,
     "metadata": {},
     "output_type": "execute_result"
    }
   ],
   "source": [
    "data = [table] \n",
    "py.iplot(data, filename = 'MTBBB Data')"
   ]
  },
  {
   "cell_type": "code",
   "execution_count": 7,
   "metadata": {},
   "outputs": [
    {
     "data": {
      "text/html": [
       "<iframe id=\"igraph\" scrolling=\"no\" style=\"border:none;\" seamless=\"seamless\" src=\"https://plot.ly/~lance.wilhelm/6.embed\" height=\"525px\" width=\"100%\"></iframe>"
      ],
      "text/plain": [
       "<chart_studio.tools.PlotlyDisplay object>"
      ]
     },
     "execution_count": 7,
     "metadata": {},
     "output_type": "execute_result"
    }
   ],
   "source": [
    "trace_roll = go.Scatter(x = df['t'], y = df['roll'], name='roll (deg)')\n",
    "trace_pitch = go.Scatter(x = df['t'], y = df['pitch'], name='pitch (deg)')\n",
    "#trace_yaw = go.Scatter(x = df['t'], y = df['yaw'], name='yaw (deg)')\n",
    "layout = go.Layout(title='MTBBB Data', plot_bgcolor='rgb(230, 230,230)', showlegend=True)\n",
    "fig = go.Figure(data=[trace_roll, trace_pitch], layout=layout)\n",
    "\n",
    "py.iplot(fig, filename='MTBBB Data')"
   ]
  },
  {
   "cell_type": "code",
   "execution_count": 8,
   "metadata": {},
   "outputs": [
    {
     "data": {
      "text/html": [
       "<iframe id=\"igraph\" scrolling=\"no\" style=\"border:none;\" seamless=\"seamless\" src=\"https://plot.ly/~lance.wilhelm/6.embed\" height=\"525px\" width=\"100%\"></iframe>"
      ],
      "text/plain": [
       "<chart_studio.tools.PlotlyDisplay object>"
      ]
     },
     "execution_count": 8,
     "metadata": {},
     "output_type": "execute_result"
    }
   ],
   "source": [
    "trace_arealX = go.Scatter(x = df['t'], y = df['arealX'], name='arealX (unk)')\n",
    "trace_arealY = go.Scatter(x = df['t'], y = df['arealY'], name='arealY (unk)')\n",
    "trace_arealZ = go.Scatter(x = df['t'], y = df['arealZ'], name='arealZ (unk)')\n",
    "layout = go.Layout(title='MTBBB Data', plot_bgcolor='rgb(230, 230,230)', showlegend=True)\n",
    "fig = go.Figure(data=[trace_arealX, trace_arealY, trace_arealZ], layout=layout)\n",
    "\n",
    "py.iplot(fig, filename='MTBBB Data')"
   ]
  },
  {
   "cell_type": "code",
   "execution_count": 9,
   "metadata": {},
   "outputs": [
    {
     "data": {
      "text/html": [
       "<iframe id=\"igraph\" scrolling=\"no\" style=\"border:none;\" seamless=\"seamless\" src=\"https://plot.ly/~lance.wilhelm/6.embed\" height=\"525px\" width=\"100%\"></iframe>"
      ],
      "text/plain": [
       "<chart_studio.tools.PlotlyDisplay object>"
      ]
     },
     "execution_count": 9,
     "metadata": {},
     "output_type": "execute_result"
    }
   ],
   "source": [
    "trace_aworldX = go.Scatter(x = df['t'], y = df['aworldX'], name='aworldX (unk)')\n",
    "trace_aworldY = go.Scatter(x = df['t'], y = df['aworldY'], name='aworldY (unk)')\n",
    "trace_aworldZ = go.Scatter(x = df['t'], y = df['aworldZ'], name='aworldZ (unk)')\n",
    "layout = go.Layout(title='MTBBB Data', plot_bgcolor='rgb(230, 230,230)', showlegend=True)\n",
    "fig = go.Figure(data=[trace_aworldX, trace_aworldY, trace_aworldZ], layout=layout)\n",
    "\n",
    "py.iplot(fig, filename='MTBBB Data')"
   ]
  }
 ],
 "metadata": {
  "kernelspec": {
   "display_name": "Python 3",
   "language": "python",
   "name": "python3"
  },
  "language_info": {
   "codemirror_mode": {
    "name": "ipython",
    "version": 3
   },
   "file_extension": ".py",
   "mimetype": "text/x-python",
   "name": "python",
   "nbconvert_exporter": "python",
   "pygments_lexer": "ipython3",
   "version": "3.7.3"
  }
 },
 "nbformat": 4,
 "nbformat_minor": 2
}
